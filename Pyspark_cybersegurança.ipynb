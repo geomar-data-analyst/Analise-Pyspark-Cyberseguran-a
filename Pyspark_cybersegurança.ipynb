{
  "nbformat": 4,
  "nbformat_minor": 0,
  "metadata": {
    "colab": {
      "provenance": []
    },
    "kernelspec": {
      "name": "python3",
      "display_name": "Python 3"
    },
    "language_info": {
      "name": "python"
    }
  },
  "cells": [
    {
      "cell_type": "markdown",
      "source": [
        "## 📊 Análise de Dados – Setor de Cibersegurança\n",
        "Este notebook tem como objetivo explorar, analisar e extrair insights estratégicos do arquivo dataset_cyberseguranca.csv, que contém registros relevantes para o setor de cibersegurança. Através de técnicas de análise estatística, visualização de dados e modelagem preditiva, buscamos compreender padrões de ameaças, vulnerabilidades recorrentes, e comportamentos anômalos que possam impactar a segurança digital de organizações.\n",
        "🔍 Objetivos principais:\n",
        "- Realizar uma análise exploratória dos dados (EDA)\n",
        "- Identificar tendências em incidentes de segurança\n",
        "- Detectar possíveis correlações entre variáveis (ex: tipo de ataque vs. setor afetado)\n",
        "- Avaliar a frequência e impacto de diferentes tipos de ameaças\n",
        "- Propor recomendações baseadas em evidências para mitigação de riscos\n",
        "🛡️ Aplicações:\n",
        "Os resultados obtidos neste notebook podem ser utilizados para:\n",
        "- Apoiar decisões estratégicas em políticas de segurança da informação\n",
        "- Fortalecer sistemas de detecção e resposta a incidentes\n",
        "- Desenvolver modelos preditivos para antecipar ataques cibernéticos\n",
        "- Gerar relatórios para auditoria e conformidade regulatória\n"
      ],
      "metadata": {
        "id": "2anMe2ZBFQyR"
      }
    },
    {
      "cell_type": "code",
      "execution_count": null,
      "metadata": {
        "colab": {
          "base_uri": "https://localhost:8080/",
          "height": 73
        },
        "id": "ElKOGkJ2mfxh",
        "outputId": "7018b646-d283-4566-9ad2-bfbe7508001a"
      },
      "outputs": [
        {
          "output_type": "display_data",
          "data": {
            "text/plain": [
              "<IPython.core.display.HTML object>"
            ],
            "text/html": [
              "\n",
              "     <input type=\"file\" id=\"files-c19a1313-fa2e-45ab-b103-fa72da7b059c\" name=\"files[]\" multiple disabled\n",
              "        style=\"border:none\" />\n",
              "     <output id=\"result-c19a1313-fa2e-45ab-b103-fa72da7b059c\">\n",
              "      Upload widget is only available when the cell has been executed in the\n",
              "      current browser session. Please rerun this cell to enable.\n",
              "      </output>\n",
              "      <script>// Copyright 2017 Google LLC\n",
              "//\n",
              "// Licensed under the Apache License, Version 2.0 (the \"License\");\n",
              "// you may not use this file except in compliance with the License.\n",
              "// You may obtain a copy of the License at\n",
              "//\n",
              "//      http://www.apache.org/licenses/LICENSE-2.0\n",
              "//\n",
              "// Unless required by applicable law or agreed to in writing, software\n",
              "// distributed under the License is distributed on an \"AS IS\" BASIS,\n",
              "// WITHOUT WARRANTIES OR CONDITIONS OF ANY KIND, either express or implied.\n",
              "// See the License for the specific language governing permissions and\n",
              "// limitations under the License.\n",
              "\n",
              "/**\n",
              " * @fileoverview Helpers for google.colab Python module.\n",
              " */\n",
              "(function(scope) {\n",
              "function span(text, styleAttributes = {}) {\n",
              "  const element = document.createElement('span');\n",
              "  element.textContent = text;\n",
              "  for (const key of Object.keys(styleAttributes)) {\n",
              "    element.style[key] = styleAttributes[key];\n",
              "  }\n",
              "  return element;\n",
              "}\n",
              "\n",
              "// Max number of bytes which will be uploaded at a time.\n",
              "const MAX_PAYLOAD_SIZE = 100 * 1024;\n",
              "\n",
              "function _uploadFiles(inputId, outputId) {\n",
              "  const steps = uploadFilesStep(inputId, outputId);\n",
              "  const outputElement = document.getElementById(outputId);\n",
              "  // Cache steps on the outputElement to make it available for the next call\n",
              "  // to uploadFilesContinue from Python.\n",
              "  outputElement.steps = steps;\n",
              "\n",
              "  return _uploadFilesContinue(outputId);\n",
              "}\n",
              "\n",
              "// This is roughly an async generator (not supported in the browser yet),\n",
              "// where there are multiple asynchronous steps and the Python side is going\n",
              "// to poll for completion of each step.\n",
              "// This uses a Promise to block the python side on completion of each step,\n",
              "// then passes the result of the previous step as the input to the next step.\n",
              "function _uploadFilesContinue(outputId) {\n",
              "  const outputElement = document.getElementById(outputId);\n",
              "  const steps = outputElement.steps;\n",
              "\n",
              "  const next = steps.next(outputElement.lastPromiseValue);\n",
              "  return Promise.resolve(next.value.promise).then((value) => {\n",
              "    // Cache the last promise value to make it available to the next\n",
              "    // step of the generator.\n",
              "    outputElement.lastPromiseValue = value;\n",
              "    return next.value.response;\n",
              "  });\n",
              "}\n",
              "\n",
              "/**\n",
              " * Generator function which is called between each async step of the upload\n",
              " * process.\n",
              " * @param {string} inputId Element ID of the input file picker element.\n",
              " * @param {string} outputId Element ID of the output display.\n",
              " * @return {!Iterable<!Object>} Iterable of next steps.\n",
              " */\n",
              "function* uploadFilesStep(inputId, outputId) {\n",
              "  const inputElement = document.getElementById(inputId);\n",
              "  inputElement.disabled = false;\n",
              "\n",
              "  const outputElement = document.getElementById(outputId);\n",
              "  outputElement.innerHTML = '';\n",
              "\n",
              "  const pickedPromise = new Promise((resolve) => {\n",
              "    inputElement.addEventListener('change', (e) => {\n",
              "      resolve(e.target.files);\n",
              "    });\n",
              "  });\n",
              "\n",
              "  const cancel = document.createElement('button');\n",
              "  inputElement.parentElement.appendChild(cancel);\n",
              "  cancel.textContent = 'Cancel upload';\n",
              "  const cancelPromise = new Promise((resolve) => {\n",
              "    cancel.onclick = () => {\n",
              "      resolve(null);\n",
              "    };\n",
              "  });\n",
              "\n",
              "  // Wait for the user to pick the files.\n",
              "  const files = yield {\n",
              "    promise: Promise.race([pickedPromise, cancelPromise]),\n",
              "    response: {\n",
              "      action: 'starting',\n",
              "    }\n",
              "  };\n",
              "\n",
              "  cancel.remove();\n",
              "\n",
              "  // Disable the input element since further picks are not allowed.\n",
              "  inputElement.disabled = true;\n",
              "\n",
              "  if (!files) {\n",
              "    return {\n",
              "      response: {\n",
              "        action: 'complete',\n",
              "      }\n",
              "    };\n",
              "  }\n",
              "\n",
              "  for (const file of files) {\n",
              "    const li = document.createElement('li');\n",
              "    li.append(span(file.name, {fontWeight: 'bold'}));\n",
              "    li.append(span(\n",
              "        `(${file.type || 'n/a'}) - ${file.size} bytes, ` +\n",
              "        `last modified: ${\n",
              "            file.lastModifiedDate ? file.lastModifiedDate.toLocaleDateString() :\n",
              "                                    'n/a'} - `));\n",
              "    const percent = span('0% done');\n",
              "    li.appendChild(percent);\n",
              "\n",
              "    outputElement.appendChild(li);\n",
              "\n",
              "    const fileDataPromise = new Promise((resolve) => {\n",
              "      const reader = new FileReader();\n",
              "      reader.onload = (e) => {\n",
              "        resolve(e.target.result);\n",
              "      };\n",
              "      reader.readAsArrayBuffer(file);\n",
              "    });\n",
              "    // Wait for the data to be ready.\n",
              "    let fileData = yield {\n",
              "      promise: fileDataPromise,\n",
              "      response: {\n",
              "        action: 'continue',\n",
              "      }\n",
              "    };\n",
              "\n",
              "    // Use a chunked sending to avoid message size limits. See b/62115660.\n",
              "    let position = 0;\n",
              "    do {\n",
              "      const length = Math.min(fileData.byteLength - position, MAX_PAYLOAD_SIZE);\n",
              "      const chunk = new Uint8Array(fileData, position, length);\n",
              "      position += length;\n",
              "\n",
              "      const base64 = btoa(String.fromCharCode.apply(null, chunk));\n",
              "      yield {\n",
              "        response: {\n",
              "          action: 'append',\n",
              "          file: file.name,\n",
              "          data: base64,\n",
              "        },\n",
              "      };\n",
              "\n",
              "      let percentDone = fileData.byteLength === 0 ?\n",
              "          100 :\n",
              "          Math.round((position / fileData.byteLength) * 100);\n",
              "      percent.textContent = `${percentDone}% done`;\n",
              "\n",
              "    } while (position < fileData.byteLength);\n",
              "  }\n",
              "\n",
              "  // All done.\n",
              "  yield {\n",
              "    response: {\n",
              "      action: 'complete',\n",
              "    }\n",
              "  };\n",
              "}\n",
              "\n",
              "scope.google = scope.google || {};\n",
              "scope.google.colab = scope.google.colab || {};\n",
              "scope.google.colab._files = {\n",
              "  _uploadFiles,\n",
              "  _uploadFilesContinue,\n",
              "};\n",
              "})(self);\n",
              "</script> "
            ]
          },
          "metadata": {}
        },
        {
          "output_type": "stream",
          "name": "stdout",
          "text": [
            "Saving dataset_ciberseguranca.csv to dataset_ciberseguranca.csv\n"
          ]
        }
      ],
      "source": [
        "from google.colab import files\n",
        "uploaded = files.upload()"
      ]
    },
    {
      "cell_type": "code",
      "source": [
        "import pandas as pd\n",
        "\n",
        "df = pd.read_csv('/content/dataset_ciberseguranca.csv')\n",
        "df.head()"
      ],
      "metadata": {
        "colab": {
          "base_uri": "https://localhost:8080/",
          "height": 313
        },
        "id": "EOrLdTQAne3a",
        "outputId": "a1ce3349-8365-4b21-ab4a-a3777b13e053"
      },
      "execution_count": null,
      "outputs": [
        {
          "output_type": "execute_result",
          "data": {
            "text/plain": [
              "   ID_Incidente                   Data_Hora       Tipo_Analise  \\\n",
              "0             1  2025-01-12 06:05:48.542265  Risco Cibernético   \n",
              "1             2  2024-11-16 00:45:48.542265       Conformidade   \n",
              "2             3  2025-02-15 17:14:24.542265            Eventos   \n",
              "3             4  2025-08-05 09:20:38.542265  Risco Cibernético   \n",
              "4             5  2024-10-09 13:55:41.542265       Conformidade   \n",
              "\n",
              "          Origem_Dados Ferramenta_Usada               Descricao_Evento  \\\n",
              "0  Sistema Operacional           Splunk  Download de arquivo malicioso   \n",
              "1             Servidor           QRadar  Download de arquivo malicioso   \n",
              "2            Antivírus           Splunk         Acesso fora de horário   \n",
              "3            Antivírus           Splunk        Tráfego de rede incomum   \n",
              "4             Servidor          OpenVAS  Download de arquivo malicioso   \n",
              "\n",
              "       Tipo_Ameaca Vulnerabilidade_Identificada   Acao_Tomada  \\\n",
              "0          Malware                        Log4j    Escalonado   \n",
              "1       Ransomware                   Shellshock     Mitigação   \n",
              "2       Ransomware                      Nenhuma  Investigação   \n",
              "3          Malware                        Log4j       Fechado   \n",
              "4  Trojan Bancário                   Heartbleed  Investigação   \n",
              "\n",
              "  Norma_Conformidade  Risco_Associado  Setor_Alvo        Status  \n",
              "0          ISO 27001  Invasão interna     Governo        Aberto  \n",
              "1            Nenhuma             Alto  Tecnologia  Em Andamento  \n",
              "2            Nenhuma  Invasão interna     Governo  Em Andamento  \n",
              "3               LGPD            Baixo       Saúde       Fechado  \n",
              "4            Nenhuma   Roubo de dados       Saúde        Aberto  "
            ],
            "text/html": [
              "\n",
              "  <div id=\"df-8d02fcf6-4bd5-4e9d-84f5-7e8ee8d5d800\" class=\"colab-df-container\">\n",
              "    <div>\n",
              "<style scoped>\n",
              "    .dataframe tbody tr th:only-of-type {\n",
              "        vertical-align: middle;\n",
              "    }\n",
              "\n",
              "    .dataframe tbody tr th {\n",
              "        vertical-align: top;\n",
              "    }\n",
              "\n",
              "    .dataframe thead th {\n",
              "        text-align: right;\n",
              "    }\n",
              "</style>\n",
              "<table border=\"1\" class=\"dataframe\">\n",
              "  <thead>\n",
              "    <tr style=\"text-align: right;\">\n",
              "      <th></th>\n",
              "      <th>ID_Incidente</th>\n",
              "      <th>Data_Hora</th>\n",
              "      <th>Tipo_Analise</th>\n",
              "      <th>Origem_Dados</th>\n",
              "      <th>Ferramenta_Usada</th>\n",
              "      <th>Descricao_Evento</th>\n",
              "      <th>Tipo_Ameaca</th>\n",
              "      <th>Vulnerabilidade_Identificada</th>\n",
              "      <th>Acao_Tomada</th>\n",
              "      <th>Norma_Conformidade</th>\n",
              "      <th>Risco_Associado</th>\n",
              "      <th>Setor_Alvo</th>\n",
              "      <th>Status</th>\n",
              "    </tr>\n",
              "  </thead>\n",
              "  <tbody>\n",
              "    <tr>\n",
              "      <th>0</th>\n",
              "      <td>1</td>\n",
              "      <td>2025-01-12 06:05:48.542265</td>\n",
              "      <td>Risco Cibernético</td>\n",
              "      <td>Sistema Operacional</td>\n",
              "      <td>Splunk</td>\n",
              "      <td>Download de arquivo malicioso</td>\n",
              "      <td>Malware</td>\n",
              "      <td>Log4j</td>\n",
              "      <td>Escalonado</td>\n",
              "      <td>ISO 27001</td>\n",
              "      <td>Invasão interna</td>\n",
              "      <td>Governo</td>\n",
              "      <td>Aberto</td>\n",
              "    </tr>\n",
              "    <tr>\n",
              "      <th>1</th>\n",
              "      <td>2</td>\n",
              "      <td>2024-11-16 00:45:48.542265</td>\n",
              "      <td>Conformidade</td>\n",
              "      <td>Servidor</td>\n",
              "      <td>QRadar</td>\n",
              "      <td>Download de arquivo malicioso</td>\n",
              "      <td>Ransomware</td>\n",
              "      <td>Shellshock</td>\n",
              "      <td>Mitigação</td>\n",
              "      <td>Nenhuma</td>\n",
              "      <td>Alto</td>\n",
              "      <td>Tecnologia</td>\n",
              "      <td>Em Andamento</td>\n",
              "    </tr>\n",
              "    <tr>\n",
              "      <th>2</th>\n",
              "      <td>3</td>\n",
              "      <td>2025-02-15 17:14:24.542265</td>\n",
              "      <td>Eventos</td>\n",
              "      <td>Antivírus</td>\n",
              "      <td>Splunk</td>\n",
              "      <td>Acesso fora de horário</td>\n",
              "      <td>Ransomware</td>\n",
              "      <td>Nenhuma</td>\n",
              "      <td>Investigação</td>\n",
              "      <td>Nenhuma</td>\n",
              "      <td>Invasão interna</td>\n",
              "      <td>Governo</td>\n",
              "      <td>Em Andamento</td>\n",
              "    </tr>\n",
              "    <tr>\n",
              "      <th>3</th>\n",
              "      <td>4</td>\n",
              "      <td>2025-08-05 09:20:38.542265</td>\n",
              "      <td>Risco Cibernético</td>\n",
              "      <td>Antivírus</td>\n",
              "      <td>Splunk</td>\n",
              "      <td>Tráfego de rede incomum</td>\n",
              "      <td>Malware</td>\n",
              "      <td>Log4j</td>\n",
              "      <td>Fechado</td>\n",
              "      <td>LGPD</td>\n",
              "      <td>Baixo</td>\n",
              "      <td>Saúde</td>\n",
              "      <td>Fechado</td>\n",
              "    </tr>\n",
              "    <tr>\n",
              "      <th>4</th>\n",
              "      <td>5</td>\n",
              "      <td>2024-10-09 13:55:41.542265</td>\n",
              "      <td>Conformidade</td>\n",
              "      <td>Servidor</td>\n",
              "      <td>OpenVAS</td>\n",
              "      <td>Download de arquivo malicioso</td>\n",
              "      <td>Trojan Bancário</td>\n",
              "      <td>Heartbleed</td>\n",
              "      <td>Investigação</td>\n",
              "      <td>Nenhuma</td>\n",
              "      <td>Roubo de dados</td>\n",
              "      <td>Saúde</td>\n",
              "      <td>Aberto</td>\n",
              "    </tr>\n",
              "  </tbody>\n",
              "</table>\n",
              "</div>\n",
              "    <div class=\"colab-df-buttons\">\n",
              "\n",
              "  <div class=\"colab-df-container\">\n",
              "    <button class=\"colab-df-convert\" onclick=\"convertToInteractive('df-8d02fcf6-4bd5-4e9d-84f5-7e8ee8d5d800')\"\n",
              "            title=\"Convert this dataframe to an interactive table.\"\n",
              "            style=\"display:none;\">\n",
              "\n",
              "  <svg xmlns=\"http://www.w3.org/2000/svg\" height=\"24px\" viewBox=\"0 -960 960 960\">\n",
              "    <path d=\"M120-120v-720h720v720H120Zm60-500h600v-160H180v160Zm220 220h160v-160H400v160Zm0 220h160v-160H400v160ZM180-400h160v-160H180v160Zm440 0h160v-160H620v160ZM180-180h160v-160H180v160Zm440 0h160v-160H620v160Z\"/>\n",
              "  </svg>\n",
              "    </button>\n",
              "\n",
              "  <style>\n",
              "    .colab-df-container {\n",
              "      display:flex;\n",
              "      gap: 12px;\n",
              "    }\n",
              "\n",
              "    .colab-df-convert {\n",
              "      background-color: #E8F0FE;\n",
              "      border: none;\n",
              "      border-radius: 50%;\n",
              "      cursor: pointer;\n",
              "      display: none;\n",
              "      fill: #1967D2;\n",
              "      height: 32px;\n",
              "      padding: 0 0 0 0;\n",
              "      width: 32px;\n",
              "    }\n",
              "\n",
              "    .colab-df-convert:hover {\n",
              "      background-color: #E2EBFA;\n",
              "      box-shadow: 0px 1px 2px rgba(60, 64, 67, 0.3), 0px 1px 3px 1px rgba(60, 64, 67, 0.15);\n",
              "      fill: #174EA6;\n",
              "    }\n",
              "\n",
              "    .colab-df-buttons div {\n",
              "      margin-bottom: 4px;\n",
              "    }\n",
              "\n",
              "    [theme=dark] .colab-df-convert {\n",
              "      background-color: #3B4455;\n",
              "      fill: #D2E3FC;\n",
              "    }\n",
              "\n",
              "    [theme=dark] .colab-df-convert:hover {\n",
              "      background-color: #434B5C;\n",
              "      box-shadow: 0px 1px 3px 1px rgba(0, 0, 0, 0.15);\n",
              "      filter: drop-shadow(0px 1px 2px rgba(0, 0, 0, 0.3));\n",
              "      fill: #FFFFFF;\n",
              "    }\n",
              "  </style>\n",
              "\n",
              "    <script>\n",
              "      const buttonEl =\n",
              "        document.querySelector('#df-8d02fcf6-4bd5-4e9d-84f5-7e8ee8d5d800 button.colab-df-convert');\n",
              "      buttonEl.style.display =\n",
              "        google.colab.kernel.accessAllowed ? 'block' : 'none';\n",
              "\n",
              "      async function convertToInteractive(key) {\n",
              "        const element = document.querySelector('#df-8d02fcf6-4bd5-4e9d-84f5-7e8ee8d5d800');\n",
              "        const dataTable =\n",
              "          await google.colab.kernel.invokeFunction('convertToInteractive',\n",
              "                                                    [key], {});\n",
              "        if (!dataTable) return;\n",
              "\n",
              "        const docLinkHtml = 'Like what you see? Visit the ' +\n",
              "          '<a target=\"_blank\" href=https://colab.research.google.com/notebooks/data_table.ipynb>data table notebook</a>'\n",
              "          + ' to learn more about interactive tables.';\n",
              "        element.innerHTML = '';\n",
              "        dataTable['output_type'] = 'display_data';\n",
              "        await google.colab.output.renderOutput(dataTable, element);\n",
              "        const docLink = document.createElement('div');\n",
              "        docLink.innerHTML = docLinkHtml;\n",
              "        element.appendChild(docLink);\n",
              "      }\n",
              "    </script>\n",
              "  </div>\n",
              "\n",
              "\n",
              "    <div id=\"df-c534a267-6834-4fd7-a4c2-fee22e2bc8ad\">\n",
              "      <button class=\"colab-df-quickchart\" onclick=\"quickchart('df-c534a267-6834-4fd7-a4c2-fee22e2bc8ad')\"\n",
              "                title=\"Suggest charts\"\n",
              "                style=\"display:none;\">\n",
              "\n",
              "<svg xmlns=\"http://www.w3.org/2000/svg\" height=\"24px\"viewBox=\"0 0 24 24\"\n",
              "     width=\"24px\">\n",
              "    <g>\n",
              "        <path d=\"M19 3H5c-1.1 0-2 .9-2 2v14c0 1.1.9 2 2 2h14c1.1 0 2-.9 2-2V5c0-1.1-.9-2-2-2zM9 17H7v-7h2v7zm4 0h-2V7h2v10zm4 0h-2v-4h2v4z\"/>\n",
              "    </g>\n",
              "</svg>\n",
              "      </button>\n",
              "\n",
              "<style>\n",
              "  .colab-df-quickchart {\n",
              "      --bg-color: #E8F0FE;\n",
              "      --fill-color: #1967D2;\n",
              "      --hover-bg-color: #E2EBFA;\n",
              "      --hover-fill-color: #174EA6;\n",
              "      --disabled-fill-color: #AAA;\n",
              "      --disabled-bg-color: #DDD;\n",
              "  }\n",
              "\n",
              "  [theme=dark] .colab-df-quickchart {\n",
              "      --bg-color: #3B4455;\n",
              "      --fill-color: #D2E3FC;\n",
              "      --hover-bg-color: #434B5C;\n",
              "      --hover-fill-color: #FFFFFF;\n",
              "      --disabled-bg-color: #3B4455;\n",
              "      --disabled-fill-color: #666;\n",
              "  }\n",
              "\n",
              "  .colab-df-quickchart {\n",
              "    background-color: var(--bg-color);\n",
              "    border: none;\n",
              "    border-radius: 50%;\n",
              "    cursor: pointer;\n",
              "    display: none;\n",
              "    fill: var(--fill-color);\n",
              "    height: 32px;\n",
              "    padding: 0;\n",
              "    width: 32px;\n",
              "  }\n",
              "\n",
              "  .colab-df-quickchart:hover {\n",
              "    background-color: var(--hover-bg-color);\n",
              "    box-shadow: 0 1px 2px rgba(60, 64, 67, 0.3), 0 1px 3px 1px rgba(60, 64, 67, 0.15);\n",
              "    fill: var(--button-hover-fill-color);\n",
              "  }\n",
              "\n",
              "  .colab-df-quickchart-complete:disabled,\n",
              "  .colab-df-quickchart-complete:disabled:hover {\n",
              "    background-color: var(--disabled-bg-color);\n",
              "    fill: var(--disabled-fill-color);\n",
              "    box-shadow: none;\n",
              "  }\n",
              "\n",
              "  .colab-df-spinner {\n",
              "    border: 2px solid var(--fill-color);\n",
              "    border-color: transparent;\n",
              "    border-bottom-color: var(--fill-color);\n",
              "    animation:\n",
              "      spin 1s steps(1) infinite;\n",
              "  }\n",
              "\n",
              "  @keyframes spin {\n",
              "    0% {\n",
              "      border-color: transparent;\n",
              "      border-bottom-color: var(--fill-color);\n",
              "      border-left-color: var(--fill-color);\n",
              "    }\n",
              "    20% {\n",
              "      border-color: transparent;\n",
              "      border-left-color: var(--fill-color);\n",
              "      border-top-color: var(--fill-color);\n",
              "    }\n",
              "    30% {\n",
              "      border-color: transparent;\n",
              "      border-left-color: var(--fill-color);\n",
              "      border-top-color: var(--fill-color);\n",
              "      border-right-color: var(--fill-color);\n",
              "    }\n",
              "    40% {\n",
              "      border-color: transparent;\n",
              "      border-right-color: var(--fill-color);\n",
              "      border-top-color: var(--fill-color);\n",
              "    }\n",
              "    60% {\n",
              "      border-color: transparent;\n",
              "      border-right-color: var(--fill-color);\n",
              "    }\n",
              "    80% {\n",
              "      border-color: transparent;\n",
              "      border-right-color: var(--fill-color);\n",
              "      border-bottom-color: var(--fill-color);\n",
              "    }\n",
              "    90% {\n",
              "      border-color: transparent;\n",
              "      border-bottom-color: var(--fill-color);\n",
              "    }\n",
              "  }\n",
              "</style>\n",
              "\n",
              "      <script>\n",
              "        async function quickchart(key) {\n",
              "          const quickchartButtonEl =\n",
              "            document.querySelector('#' + key + ' button');\n",
              "          quickchartButtonEl.disabled = true;  // To prevent multiple clicks.\n",
              "          quickchartButtonEl.classList.add('colab-df-spinner');\n",
              "          try {\n",
              "            const charts = await google.colab.kernel.invokeFunction(\n",
              "                'suggestCharts', [key], {});\n",
              "          } catch (error) {\n",
              "            console.error('Error during call to suggestCharts:', error);\n",
              "          }\n",
              "          quickchartButtonEl.classList.remove('colab-df-spinner');\n",
              "          quickchartButtonEl.classList.add('colab-df-quickchart-complete');\n",
              "        }\n",
              "        (() => {\n",
              "          let quickchartButtonEl =\n",
              "            document.querySelector('#df-c534a267-6834-4fd7-a4c2-fee22e2bc8ad button');\n",
              "          quickchartButtonEl.style.display =\n",
              "            google.colab.kernel.accessAllowed ? 'block' : 'none';\n",
              "        })();\n",
              "      </script>\n",
              "    </div>\n",
              "\n",
              "    </div>\n",
              "  </div>\n"
            ],
            "application/vnd.google.colaboratory.intrinsic+json": {
              "type": "dataframe",
              "variable_name": "df",
              "summary": "{\n  \"name\": \"df\",\n  \"rows\": 500,\n  \"fields\": [\n    {\n      \"column\": \"ID_Incidente\",\n      \"properties\": {\n        \"dtype\": \"number\",\n        \"std\": 144,\n        \"min\": 1,\n        \"max\": 500,\n        \"num_unique_values\": 500,\n        \"samples\": [\n          362,\n          74,\n          375\n        ],\n        \"semantic_type\": \"\",\n        \"description\": \"\"\n      }\n    },\n    {\n      \"column\": \"Data_Hora\",\n      \"properties\": {\n        \"dtype\": \"object\",\n        \"num_unique_values\": 500,\n        \"samples\": [\n          \"2025-04-05 00:35:58.557912\",\n          \"2024-12-04 08:10:16.542265\",\n          \"2025-05-02 17:16:05.557912\"\n        ],\n        \"semantic_type\": \"\",\n        \"description\": \"\"\n      }\n    },\n    {\n      \"column\": \"Tipo_Analise\",\n      \"properties\": {\n        \"dtype\": \"category\",\n        \"num_unique_values\": 8,\n        \"samples\": [\n          \"Conformidade\",\n          \"Tend\\u00eancias e Incidentes\",\n          \"Risco Cibern\\u00e9tico\"\n        ],\n        \"semantic_type\": \"\",\n        \"description\": \"\"\n      }\n    },\n    {\n      \"column\": \"Origem_Dados\",\n      \"properties\": {\n        \"dtype\": \"category\",\n        \"num_unique_values\": 4,\n        \"samples\": [\n          \"Servidor\",\n          \"Firewall\",\n          \"Sistema Operacional\"\n        ],\n        \"semantic_type\": \"\",\n        \"description\": \"\"\n      }\n    },\n    {\n      \"column\": \"Ferramenta_Usada\",\n      \"properties\": {\n        \"dtype\": \"category\",\n        \"num_unique_values\": 6,\n        \"samples\": [\n          \"Splunk\",\n          \"QRadar\",\n          \"ELK Stack\"\n        ],\n        \"semantic_type\": \"\",\n        \"description\": \"\"\n      }\n    },\n    {\n      \"column\": \"Descricao_Evento\",\n      \"properties\": {\n        \"dtype\": \"category\",\n        \"num_unique_values\": 4,\n        \"samples\": [\n          \"Acesso fora de hor\\u00e1rio\",\n          \"Tentativa de login falha\",\n          \"Download de arquivo malicioso\"\n        ],\n        \"semantic_type\": \"\",\n        \"description\": \"\"\n      }\n    },\n    {\n      \"column\": \"Tipo_Ameaca\",\n      \"properties\": {\n        \"dtype\": \"category\",\n        \"num_unique_values\": 4,\n        \"samples\": [\n          \"Ransomware\",\n          \"Phishing\",\n          \"Malware\"\n        ],\n        \"semantic_type\": \"\",\n        \"description\": \"\"\n      }\n    },\n    {\n      \"column\": \"Vulnerabilidade_Identificada\",\n      \"properties\": {\n        \"dtype\": \"category\",\n        \"num_unique_values\": 5,\n        \"samples\": [\n          \"Shellshock\",\n          \"CVE-2017-11882\",\n          \"Nenhuma\"\n        ],\n        \"semantic_type\": \"\",\n        \"description\": \"\"\n      }\n    },\n    {\n      \"column\": \"Acao_Tomada\",\n      \"properties\": {\n        \"dtype\": \"category\",\n        \"num_unique_values\": 4,\n        \"samples\": [\n          \"Mitiga\\u00e7\\u00e3o\",\n          \"Fechado\",\n          \"Escalonado\"\n        ],\n        \"semantic_type\": \"\",\n        \"description\": \"\"\n      }\n    },\n    {\n      \"column\": \"Norma_Conformidade\",\n      \"properties\": {\n        \"dtype\": \"category\",\n        \"num_unique_values\": 4,\n        \"samples\": [\n          \"Nenhuma\",\n          \"GDPR\",\n          \"ISO 27001\"\n        ],\n        \"semantic_type\": \"\",\n        \"description\": \"\"\n      }\n    },\n    {\n      \"column\": \"Risco_Associado\",\n      \"properties\": {\n        \"dtype\": \"category\",\n        \"num_unique_values\": 7,\n        \"samples\": [\n          \"Invas\\u00e3o interna\",\n          \"Alto\",\n          \"DDoS\"\n        ],\n        \"semantic_type\": \"\",\n        \"description\": \"\"\n      }\n    },\n    {\n      \"column\": \"Setor_Alvo\",\n      \"properties\": {\n        \"dtype\": \"category\",\n        \"num_unique_values\": 5,\n        \"samples\": [\n          \"Tecnologia\",\n          \"Financeiro\",\n          \"Sa\\u00fade\"\n        ],\n        \"semantic_type\": \"\",\n        \"description\": \"\"\n      }\n    },\n    {\n      \"column\": \"Status\",\n      \"properties\": {\n        \"dtype\": \"category\",\n        \"num_unique_values\": 3,\n        \"samples\": [\n          \"Aberto\",\n          \"Em Andamento\",\n          \"Fechado\"\n        ],\n        \"semantic_type\": \"\",\n        \"description\": \"\"\n      }\n    }\n  ]\n}"
            }
          },
          "metadata": {},
          "execution_count": 3
        }
      ]
    },
    {
      "cell_type": "code",
      "source": [],
      "metadata": {
        "id": "89fKbpyIngnf"
      },
      "execution_count": null,
      "outputs": []
    },
    {
      "cell_type": "markdown",
      "source": [
        "## Pyspark"
      ],
      "metadata": {
        "id": "NAQJOHYIn5_h"
      }
    },
    {
      "cell_type": "code",
      "source": [
        "from pyspark.sql import SparkSession\n",
        "from pyspark.sql.functions import col, count, desc\n",
        "import random\n",
        "from datetime import datetime, timedelta\n",
        "import numpy as np"
      ],
      "metadata": {
        "id": "3Kq_oUMen8nd"
      },
      "execution_count": null,
      "outputs": []
    },
    {
      "cell_type": "code",
      "source": [
        "# Importa as classes necessárias\n",
        "from pyspark.sql import SparkSession\n",
        "from pyspark.sql.functions import col, year, month, dayofmonth, to_timestamp\n",
        "\n",
        "# Cria a sessão Spark\n",
        "spark = SparkSession.builder \\\n",
        "    .appName(\"AnaliseCyberseguranca\") \\\n",
        "    .getOrCreate()\n",
        "\n",
        "# Caminho para o seu arquivo CSV\n",
        "caminho_arquivo = \"/content/dataset_ciberseguranca.csv\"\n",
        "\n",
        "# Lê o arquivo CSV com inferência de schema e cabeçalho\n",
        "# A opção \"timestampFormat\" ajuda a garantir que a coluna Data_Hora seja lida corretamente\n",
        "df = spark.read \\\n",
        "    .option(\"header\", \"true\") \\\n",
        "    .option(\"inferSchema\", \"true\") \\\n",
        "    .option(\"timestampFormat\", \"yyyy-MM-dd HH:mm:ss\") \\\n",
        "    .csv(caminho_arquivo)\n",
        "\n",
        "# Exibe o schema para garantir que a coluna 'Data_Hora' é do tipo 'timestamp'\n",
        "df.printSchema()\n",
        "\n",
        "# Mostra as 5 primeiras linhas para uma visualização rápida\n",
        "df.show(5, truncate=False)"
      ],
      "metadata": {
        "colab": {
          "base_uri": "https://localhost:8080/"
        },
        "id": "Nduv4DpYoXG4",
        "outputId": "f21eb4cc-b286-464b-ca97-6dde99f63aba"
      },
      "execution_count": null,
      "outputs": [
        {
          "output_type": "stream",
          "name": "stdout",
          "text": [
            "root\n",
            " |-- ID_Incidente: integer (nullable = true)\n",
            " |-- Data_Hora: string (nullable = true)\n",
            " |-- Tipo_Analise: string (nullable = true)\n",
            " |-- Origem_Dados: string (nullable = true)\n",
            " |-- Ferramenta_Usada: string (nullable = true)\n",
            " |-- Descricao_Evento: string (nullable = true)\n",
            " |-- Tipo_Ameaca: string (nullable = true)\n",
            " |-- Vulnerabilidade_Identificada: string (nullable = true)\n",
            " |-- Acao_Tomada: string (nullable = true)\n",
            " |-- Norma_Conformidade: string (nullable = true)\n",
            " |-- Risco_Associado: string (nullable = true)\n",
            " |-- Setor_Alvo: string (nullable = true)\n",
            " |-- Status: string (nullable = true)\n",
            "\n",
            "+------------+--------------------------+-----------------+-------------------+----------------+-----------------------------+---------------+----------------------------+------------+------------------+---------------+----------+------------+\n",
            "|ID_Incidente|Data_Hora                 |Tipo_Analise     |Origem_Dados       |Ferramenta_Usada|Descricao_Evento             |Tipo_Ameaca    |Vulnerabilidade_Identificada|Acao_Tomada |Norma_Conformidade|Risco_Associado|Setor_Alvo|Status      |\n",
            "+------------+--------------------------+-----------------+-------------------+----------------+-----------------------------+---------------+----------------------------+------------+------------------+---------------+----------+------------+\n",
            "|1           |2025-01-12 06:05:48.542265|Risco Cibernético|Sistema Operacional|Splunk          |Download de arquivo malicioso|Malware        |Log4j                       |Escalonado  |ISO 27001         |Invasão interna|Governo   |Aberto      |\n",
            "|2           |2024-11-16 00:45:48.542265|Conformidade     |Servidor           |QRadar          |Download de arquivo malicioso|Ransomware     |Shellshock                  |Mitigação   |Nenhuma           |Alto           |Tecnologia|Em Andamento|\n",
            "|3           |2025-02-15 17:14:24.542265|Eventos          |Antivírus          |Splunk          |Acesso fora de horário       |Ransomware     |Nenhuma                     |Investigação|Nenhuma           |Invasão interna|Governo   |Em Andamento|\n",
            "|4           |2025-08-05 09:20:38.542265|Risco Cibernético|Antivírus          |Splunk          |Tráfego de rede incomum      |Malware        |Log4j                       |Fechado     |LGPD              |Baixo          |Saúde     |Fechado     |\n",
            "|5           |2024-10-09 13:55:41.542265|Conformidade     |Servidor           |OpenVAS         |Download de arquivo malicioso|Trojan Bancário|Heartbleed                  |Investigação|Nenhuma           |Roubo de dados |Saúde     |Aberto      |\n",
            "+------------+--------------------------+-----------------+-------------------+----------------+-----------------------------+---------------+----------------------------+------------+------------------+---------------+----------+------------+\n",
            "only showing top 5 rows\n",
            "\n"
          ]
        }
      ]
    },
    {
      "cell_type": "code",
      "source": [],
      "metadata": {
        "id": "uiwuh1bCoYYR"
      },
      "execution_count": null,
      "outputs": []
    },
    {
      "cell_type": "markdown",
      "source": [
        "## Incidentes por tipo de ameaça"
      ],
      "metadata": {
        "id": "F-9Qf_mIo-hM"
      }
    },
    {
      "cell_type": "code",
      "source": [
        "df.groupBy(\"Tipo_Ameaca\").count().orderBy(desc(\"count\")).show()"
      ],
      "metadata": {
        "colab": {
          "base_uri": "https://localhost:8080/"
        },
        "id": "qSI4Ii17pJ6B",
        "outputId": "00f7e046-c6c8-4be5-ea98-1b8b89d72336"
      },
      "execution_count": null,
      "outputs": [
        {
          "output_type": "stream",
          "name": "stdout",
          "text": [
            "+---------------+-----+\n",
            "|    Tipo_Ameaca|count|\n",
            "+---------------+-----+\n",
            "|     Ransomware|  140|\n",
            "|       Phishing|  131|\n",
            "|Trojan Bancário|  116|\n",
            "|        Malware|  113|\n",
            "+---------------+-----+\n",
            "\n"
          ]
        }
      ]
    },
    {
      "cell_type": "markdown",
      "source": [
        "## Ferramentas mais ultilizadas"
      ],
      "metadata": {
        "id": "K8YhUAydpdJ2"
      }
    },
    {
      "cell_type": "code",
      "source": [
        "df.groupBy(\"Ferramenta_Usada\").count().orderBy(desc(\"count\")).show()"
      ],
      "metadata": {
        "colab": {
          "base_uri": "https://localhost:8080/"
        },
        "id": "0uYkokGxpZWb",
        "outputId": "47ef7de9-e9c7-485d-a7d3-a854e4ed232a"
      },
      "execution_count": null,
      "outputs": [
        {
          "output_type": "stream",
          "name": "stdout",
          "text": [
            "+----------------+-----+\n",
            "|Ferramenta_Usada|count|\n",
            "+----------------+-----+\n",
            "|          Nessus|   91|\n",
            "|          Qualys|   86|\n",
            "|          Splunk|   85|\n",
            "|          QRadar|   83|\n",
            "|       ELK Stack|   79|\n",
            "|         OpenVAS|   76|\n",
            "+----------------+-----+\n",
            "\n"
          ]
        }
      ]
    },
    {
      "cell_type": "markdown",
      "source": [
        "## Incidentes por setor alvo"
      ],
      "metadata": {
        "id": "N6OnmwPlqRjG"
      }
    },
    {
      "cell_type": "code",
      "source": [
        "df.groupBy(\"Setor_Alvo\").count().orderBy(desc(\"count\")).show()"
      ],
      "metadata": {
        "colab": {
          "base_uri": "https://localhost:8080/"
        },
        "id": "p0F93jjzpkSu",
        "outputId": "2d7b4a4d-a64f-40ea-dc58-94501638799b"
      },
      "execution_count": null,
      "outputs": [
        {
          "output_type": "stream",
          "name": "stdout",
          "text": [
            "+----------+-----+\n",
            "|Setor_Alvo|count|\n",
            "+----------+-----+\n",
            "|Financeiro|  114|\n",
            "|     Saúde|  100|\n",
            "|    Varejo|   97|\n",
            "|   Governo|   95|\n",
            "|Tecnologia|   94|\n",
            "+----------+-----+\n",
            "\n"
          ]
        }
      ]
    },
    {
      "cell_type": "markdown",
      "source": [
        "## Estrutura do dataset"
      ],
      "metadata": {
        "id": "CCrraeFzq2Jk"
      }
    },
    {
      "cell_type": "code",
      "source": [
        "df.printSchema()"
      ],
      "metadata": {
        "colab": {
          "base_uri": "https://localhost:8080/"
        },
        "id": "PD96mo6HqWTG",
        "outputId": "44891301-f964-4abd-e08a-e9bd4025b1ea"
      },
      "execution_count": null,
      "outputs": [
        {
          "output_type": "stream",
          "name": "stdout",
          "text": [
            "root\n",
            " |-- ID_Incidente: integer (nullable = true)\n",
            " |-- Data_Hora: string (nullable = true)\n",
            " |-- Tipo_Analise: string (nullable = true)\n",
            " |-- Origem_Dados: string (nullable = true)\n",
            " |-- Ferramenta_Usada: string (nullable = true)\n",
            " |-- Descricao_Evento: string (nullable = true)\n",
            " |-- Tipo_Ameaca: string (nullable = true)\n",
            " |-- Vulnerabilidade_Identificada: string (nullable = true)\n",
            " |-- Acao_Tomada: string (nullable = true)\n",
            " |-- Norma_Conformidade: string (nullable = true)\n",
            " |-- Risco_Associado: string (nullable = true)\n",
            " |-- Setor_Alvo: string (nullable = true)\n",
            " |-- Status: string (nullable = true)\n",
            "\n"
          ]
        }
      ]
    },
    {
      "cell_type": "markdown",
      "source": [
        "## Contar registro por tipo de ataque"
      ],
      "metadata": {
        "id": "VOqm6Lk5q9Ig"
      }
    },
    {
      "cell_type": "code",
      "source": [
        "df.groupBy(\"Tipo_Ameaca\").count().orderBy(\"count\", ascending=False).show()"
      ],
      "metadata": {
        "colab": {
          "base_uri": "https://localhost:8080/"
        },
        "id": "SYRnp0U0qyB0",
        "outputId": "bc809b48-169f-43dd-b907-0485ac488700"
      },
      "execution_count": null,
      "outputs": [
        {
          "output_type": "stream",
          "name": "stdout",
          "text": [
            "+---------------+-----+\n",
            "|    Tipo_Ameaca|count|\n",
            "+---------------+-----+\n",
            "|     Ransomware|  140|\n",
            "|       Phishing|  131|\n",
            "|Trojan Bancário|  116|\n",
            "|        Malware|  113|\n",
            "+---------------+-----+\n",
            "\n"
          ]
        }
      ]
    },
    {
      "cell_type": "markdown",
      "source": [
        "## Total de incidentes registrados"
      ],
      "metadata": {
        "id": "7eAnmg8Irr_u"
      }
    },
    {
      "cell_type": "code",
      "source": [
        "df.count()"
      ],
      "metadata": {
        "colab": {
          "base_uri": "https://localhost:8080/"
        },
        "id": "VpgU_5FdrHzQ",
        "outputId": "3a250dc9-75d0-4b95-f8b5-069c775774a0"
      },
      "execution_count": null,
      "outputs": [
        {
          "output_type": "execute_result",
          "data": {
            "text/plain": [
              "500"
            ]
          },
          "metadata": {},
          "execution_count": 17
        }
      ]
    },
    {
      "cell_type": "markdown",
      "source": [
        "## Vulnerabilidades mais encontradas"
      ],
      "metadata": {
        "id": "kjyxSUGXtlz_"
      }
    },
    {
      "cell_type": "code",
      "source": [
        "df.groupBy(\"Vulnerabilidade_Identificada\") \\\n",
        "  .count() \\\n",
        "  .orderBy(\"count\", ascending=False) \\\n",
        "  .show()"
      ],
      "metadata": {
        "colab": {
          "base_uri": "https://localhost:8080/"
        },
        "id": "3NI9nZhWrxKl",
        "outputId": "7afc225c-df89-499d-880e-0c88377a8778"
      },
      "execution_count": null,
      "outputs": [
        {
          "output_type": "stream",
          "name": "stdout",
          "text": [
            "+----------------------------+-----+\n",
            "|Vulnerabilidade_Identificada|count|\n",
            "+----------------------------+-----+\n",
            "|                  Heartbleed|  111|\n",
            "|                       Log4j|  103|\n",
            "|                     Nenhuma|  101|\n",
            "|              CVE-2017-11882|   94|\n",
            "|                  Shellshock|   91|\n",
            "+----------------------------+-----+\n",
            "\n"
          ]
        }
      ]
    },
    {
      "cell_type": "markdown",
      "source": [
        "## Ações mais tomadas por eventos"
      ],
      "metadata": {
        "id": "Rp_ROZL_t9Lv"
      }
    },
    {
      "cell_type": "code",
      "source": [
        "df.groupBy(\"Acao_Tomada\") \\\n",
        "  .count() \\\n",
        "  .orderBy(\"count\", ascending=False) \\\n",
        "  .show()"
      ],
      "metadata": {
        "colab": {
          "base_uri": "https://localhost:8080/"
        },
        "id": "j2M22rhrsgOy",
        "outputId": "ed3e93f8-99d8-4b84-d032-0bb9b14aa6c7"
      },
      "execution_count": null,
      "outputs": [
        {
          "output_type": "stream",
          "name": "stdout",
          "text": [
            "+------------+-----+\n",
            "| Acao_Tomada|count|\n",
            "+------------+-----+\n",
            "|   Mitigação|  141|\n",
            "|  Escalonado|  125|\n",
            "|     Fechado|  117|\n",
            "|Investigação|  117|\n",
            "+------------+-----+\n",
            "\n"
          ]
        }
      ]
    },
    {
      "cell_type": "markdown",
      "source": [
        "## Setores mais visados"
      ],
      "metadata": {
        "id": "hseDQjUFuQzn"
      }
    },
    {
      "cell_type": "code",
      "source": [
        "df.groupBy(\"Setor_Alvo\") \\\n",
        "  .count() \\\n",
        "  .orderBy(\"count\", ascending=False) \\\n",
        "  .show()"
      ],
      "metadata": {
        "colab": {
          "base_uri": "https://localhost:8080/"
        },
        "id": "ViJsYIJBuYPl",
        "outputId": "7f3b7e20-ea67-4110-e0cd-372f4ceaaf3e"
      },
      "execution_count": null,
      "outputs": [
        {
          "output_type": "stream",
          "name": "stdout",
          "text": [
            "+----------+-----+\n",
            "|Setor_Alvo|count|\n",
            "+----------+-----+\n",
            "|Financeiro|  114|\n",
            "|     Saúde|  100|\n",
            "|    Varejo|   97|\n",
            "|   Governo|   95|\n",
            "|Tecnologia|   94|\n",
            "+----------+-----+\n",
            "\n"
          ]
        }
      ]
    },
    {
      "cell_type": "markdown",
      "source": [],
      "metadata": {
        "id": "BVoWzWzBt7sY"
      }
    },
    {
      "cell_type": "markdown",
      "source": [
        "## Distribuições dos riscos associados"
      ],
      "metadata": {
        "id": "PKorKlFnufp3"
      }
    },
    {
      "cell_type": "code",
      "source": [
        "df.groupBy(\"Risco_Associado\") \\\n",
        "  .count() \\\n",
        "  .orderBy(\"count\", ascending=False) \\\n",
        "  .show()"
      ],
      "metadata": {
        "colab": {
          "base_uri": "https://localhost:8080/"
        },
        "id": "EBgQhGwIuj0A",
        "outputId": "3cf30540-b45f-4ac8-e10e-a15ced4a7aba"
      },
      "execution_count": null,
      "outputs": [
        {
          "output_type": "stream",
          "name": "stdout",
          "text": [
            "+---------------+-----+\n",
            "|Risco_Associado|count|\n",
            "+---------------+-----+\n",
            "|Invasão interna|   84|\n",
            "|          Baixo|   79|\n",
            "| Roubo de dados|   77|\n",
            "|           DDoS|   70|\n",
            "|          Médio|   69|\n",
            "|       Phishing|   63|\n",
            "|           Alto|   58|\n",
            "+---------------+-----+\n",
            "\n"
          ]
        }
      ]
    },
    {
      "cell_type": "markdown",
      "source": [
        "## Status dos incidentes"
      ],
      "metadata": {
        "id": "nVBXfQCNutZM"
      }
    },
    {
      "cell_type": "code",
      "source": [
        "df.groupBy(\"Status\") \\\n",
        "  .count() \\\n",
        "  .orderBy(\"count\", ascending=False) \\\n",
        "  .show()"
      ],
      "metadata": {
        "colab": {
          "base_uri": "https://localhost:8080/"
        },
        "id": "7we_kgToulLf",
        "outputId": "253ef991-0bd5-4c30-f66b-ce7097685eb2"
      },
      "execution_count": null,
      "outputs": [
        {
          "output_type": "stream",
          "name": "stdout",
          "text": [
            "+------------+-----+\n",
            "|      Status|count|\n",
            "+------------+-----+\n",
            "|Em Andamento|  176|\n",
            "|      Aberto|  163|\n",
            "|     Fechado|  161|\n",
            "+------------+-----+\n",
            "\n"
          ]
        }
      ]
    },
    {
      "cell_type": "markdown",
      "source": [],
      "metadata": {
        "id": "WwFPIV5Mu813"
      }
    },
    {
      "cell_type": "markdown",
      "source": [
        "## Incidentes por data"
      ],
      "metadata": {
        "id": "2syzN1TdvCzM"
      }
    },
    {
      "cell_type": "code",
      "source": [
        "from pyspark.sql.functions import to_date, col, to_timestamp\n",
        "\n",
        "# Convert the 'Data_Hora' column to a timestamp first\n",
        "df = df.withColumn(\"Data_Hora_Timestamp\", to_timestamp(col(\"Data_Hora\"), \"yyyy-MM-dd HH:mm:ss.SSSSSS\"))\n",
        "\n",
        "# Then convert the timestamp to a date\n",
        "df = df.withColumn(\"Data\", to_date(col(\"Data_Hora_Timestamp\")))\n",
        "\n",
        "# Now you can group by the new 'Data' column\n",
        "df.groupBy(\"Data\").count().orderBy(\"Data\").show()"
      ],
      "metadata": {
        "colab": {
          "base_uri": "https://localhost:8080/"
        },
        "id": "DFE6MIL9u0et",
        "outputId": "7ccefc4c-6c92-45b7-ec3a-09a6a32bc14e"
      },
      "execution_count": null,
      "outputs": [
        {
          "output_type": "stream",
          "name": "stdout",
          "text": [
            "+----------+-----+\n",
            "|      Data|count|\n",
            "+----------+-----+\n",
            "|2024-08-10|    1|\n",
            "|2024-08-12|    1|\n",
            "|2024-08-13|    1|\n",
            "|2024-08-14|    2|\n",
            "|2024-08-15|    2|\n",
            "|2024-08-16|    1|\n",
            "|2024-08-18|    2|\n",
            "|2024-08-19|    1|\n",
            "|2024-08-21|    2|\n",
            "|2024-08-22|    1|\n",
            "|2024-08-23|    2|\n",
            "|2024-08-24|    2|\n",
            "|2024-08-25|    2|\n",
            "|2024-08-26|    2|\n",
            "|2024-08-27|    1|\n",
            "|2024-08-28|    2|\n",
            "|2024-08-29|    1|\n",
            "|2024-08-30|    1|\n",
            "|2024-09-02|    3|\n",
            "|2024-09-03|    2|\n",
            "+----------+-----+\n",
            "only showing top 20 rows\n",
            "\n"
          ]
        }
      ]
    },
    {
      "cell_type": "markdown",
      "source": [
        "## Gráficos"
      ],
      "metadata": {
        "id": "iua93ao7xIRg"
      }
    },
    {
      "cell_type": "code",
      "source": [
        "# Agrupando com PySpark\n",
        "ameacas_df = df.groupBy(\"Tipo_Ameaca\") \\\n",
        "               .count() \\\n",
        "               .orderBy(\"count\", ascending=False)\n",
        "\n",
        "# Convertendo para Pandas\n",
        "ameacas_pd = ameacas_df.toPandas()"
      ],
      "metadata": {
        "id": "EMnu6d2yw6VH"
      },
      "execution_count": null,
      "outputs": []
    },
    {
      "cell_type": "code",
      "source": [
        "import seaborn as sns\n",
        "import matplotlib.pyplot as plt\n",
        "\n",
        "plt.figure(figsize=(10,6))\n",
        "sns.barplot(data=ameacas_pd, x=\"Tipo_Ameaca\", y=\"count\", palette=\"viridis\")\n",
        "plt.title(\"Tipos de Ameaça Mais Comuns\")\n",
        "plt.xlabel(\"Tipo de Ameaça\")\n",
        "plt.ylabel(\"Número de Incidentes\")\n",
        "plt.xticks(rotation=45)\n",
        "plt.tight_layout()\n",
        "plt.show()"
      ],
      "metadata": {
        "colab": {
          "base_uri": "https://localhost:8080/",
          "height": 685
        },
        "id": "JkTcBDB6vsV8",
        "outputId": "aaf6e7b5-86c1-4e1c-e65c-18f43b741d85"
      },
      "execution_count": null,
      "outputs": [
        {
          "output_type": "stream",
          "name": "stderr",
          "text": [
            "/tmp/ipython-input-1726108535.py:5: FutureWarning: \n",
            "\n",
            "Passing `palette` without assigning `hue` is deprecated and will be removed in v0.14.0. Assign the `x` variable to `hue` and set `legend=False` for the same effect.\n",
            "\n",
            "  sns.barplot(data=ameacas_pd, x=\"Tipo_Ameaca\", y=\"count\", palette=\"viridis\")\n"
          ]
        },
        {
          "output_type": "display_data",
          "data": {
            "text/plain": [
              "<Figure size 1000x600 with 1 Axes>"
            ],
            "image/png": "[encoded data removed]"
          },
          "metadata": {}
        }
      ]
    },
    {
      "cell_type": "markdown",
      "source": [
        "## Criar gráfico com searborn"
      ],
      "metadata": {
        "id": "oWwLgF0uxR-c"
      }
    },
    {
      "cell_type": "code",
      "source": [
        "import seaborn as sns\n",
        "import matplotlib.pyplot as plt\n",
        "\n",
        "plt.figure(figsize=(10,6))\n",
        "sns.barplot(data=ameacas_pd, x=\"Tipo_Ameaca\", y=\"count\", palette=\"viridis\")\n",
        "plt.title(\"Tipos de Ameaça Mais Comuns\")\n",
        "plt.xlabel(\"Tipo de Ameaça\")\n",
        "plt.ylabel(\"Número de Incidentes\")\n",
        "plt.xticks(rotation=45)\n",
        "plt.tight_layout()\n",
        "plt.show()"
      ],
      "metadata": {
        "colab": {
          "base_uri": "https://localhost:8080/",
          "height": 685
        },
        "id": "f2GEZuVCwbx5",
        "outputId": "9d9a80d0-a3dd-4d97-87db-d2f01ff3539d"
      },
      "execution_count": null,
      "outputs": [
        {
          "output_type": "stream",
          "name": "stderr",
          "text": [
            "/tmp/ipython-input-1726108535.py:5: FutureWarning: \n",
            "\n",
            "Passing `palette` without assigning `hue` is deprecated and will be removed in v0.14.0. Assign the `x` variable to `hue` and set `legend=False` for the same effect.\n",
            "\n",
            "  sns.barplot(data=ameacas_pd, x=\"Tipo_Ameaca\", y=\"count\", palette=\"viridis\")\n"
          ]
        },
        {
          "output_type": "display_data",
          "data": {
            "text/plain": [
              "<Figure size 1000x600 with 1 Axes>"
            ],
            "image/png": "[encoded data removed]"
          },
          "metadata": {}
        }
      ]
    },
    {
      "cell_type": "markdown",
      "source": [
        "## Gráfico de ferramentas mais usadas"
      ],
      "metadata": {
        "id": "lXig1ZkHxg2c"
      }
    },
    {
      "cell_type": "code",
      "source": [
        "ferramentas_pd = df.groupBy(\"Ferramenta_Usada\").count().orderBy(\"count\", ascending=False).toPandas()\n",
        "\n",
        "plt.figure(figsize=(10,6))\n",
        "sns.barplot(data=ferramentas_pd, x=\"Ferramenta_Usada\", y=\"count\", palette=\"mako\")\n",
        "plt.title(\"Ferramentas Mais Utilizadas\")\n",
        "plt.xticks(rotation=45)\n",
        "plt.tight_layout()\n",
        "plt.show()"
      ],
      "metadata": {
        "colab": {
          "base_uri": "https://localhost:8080/",
          "height": 685
        },
        "id": "wJ1v9cpJxZQF",
        "outputId": "57fc2f34-2018-4779-ae9f-f46de144c240"
      },
      "execution_count": null,
      "outputs": [
        {
          "output_type": "stream",
          "name": "stderr",
          "text": [
            "/tmp/ipython-input-1508331767.py:4: FutureWarning: \n",
            "\n",
            "Passing `palette` without assigning `hue` is deprecated and will be removed in v0.14.0. Assign the `x` variable to `hue` and set `legend=False` for the same effect.\n",
            "\n",
            "  sns.barplot(data=ferramentas_pd, x=\"Ferramenta_Usada\", y=\"count\", palette=\"mako\")\n"
          ]
        },
        {
          "output_type": "display_data",
          "data": {
            "text/plain": [
              "<Figure size 1000x600 with 1 Axes>"
            ],
            "image/png": "[encoded data removed]"
          },
          "metadata": {}
        }
      ]
    },
    {
      "cell_type": "markdown",
      "source": [
        "## Distribuições de riscos"
      ],
      "metadata": {
        "id": "USqJUiGdx1hs"
      }
    },
    {
      "cell_type": "code",
      "source": [
        "riscos_pd = df.groupBy(\"Risco_Associado\").count().orderBy(\"count\", ascending=False).toPandas()\n",
        "\n",
        "plt.figure(figsize=(8,6))\n",
        "sns.barplot(data=riscos_pd, x=\"Risco_Associado\", y=\"count\", palette=\"rocket\")\n",
        "plt.title(\"Distribuição dos Riscos Associados\")\n",
        "plt.tight_layout()\n",
        "plt.show()"
      ],
      "metadata": {
        "colab": {
          "base_uri": "https://localhost:8080/",
          "height": 714
        },
        "id": "kN88tdbPxoYy",
        "outputId": "66e289f2-635f-47b8-df9f-0b6c665fc01a"
      },
      "execution_count": null,
      "outputs": [
        {
          "output_type": "stream",
          "name": "stderr",
          "text": [
            "/tmp/ipython-input-3360782365.py:4: FutureWarning: \n",
            "\n",
            "Passing `palette` without assigning `hue` is deprecated and will be removed in v0.14.0. Assign the `x` variable to `hue` and set `legend=False` for the same effect.\n",
            "\n",
            "  sns.barplot(data=riscos_pd, x=\"Risco_Associado\", y=\"count\", palette=\"rocket\")\n"
          ]
        },
        {
          "output_type": "display_data",
          "data": {
            "text/plain": [
              "<Figure size 800x600 with 1 Axes>"
            ],
            "image/png": "[encoded data removed]"
          },
          "metadata": {}
        }
      ]
    },
    {
      "cell_type": "markdown",
      "source": [
        "##  Gráfico de pizza: Setor afetado"
      ],
      "metadata": {
        "id": "XR2dUB0JyZE6"
      }
    },
    {
      "cell_type": "code",
      "source": [
        "setores = df.groupBy(\"Setor_Alvo\").count().toPandas()\n",
        "\n",
        "plt.figure(figsize=(8,8))\n",
        "plt.pie(setores['count'], labels=setores['Setor_Alvo'], autopct='%1.1f%%', startangle=140)\n",
        "plt.title(\"Proporção de Incidentes por Setor\")\n",
        "plt.show()"
      ],
      "metadata": {
        "colab": {
          "base_uri": "https://localhost:8080/",
          "height": 675
        },
        "id": "V5TOP7sSx5-8",
        "outputId": "4976c35c-fac0-4466-888c-79fe8ef372ec"
      },
      "execution_count": null,
      "outputs": [
        {
          "output_type": "display_data",
          "data": {
            "text/plain": [
              "<Figure size 800x800 with 1 Axes>"
            ],
            "image/png": "[encoded data removed]"
          },
          "metadata": {}
        }
      ]
    },
    {
      "cell_type": "markdown",
      "source": [],
      "metadata": {
        "id": "RR6XPaQnz9hY"
      }
    },
    {
      "cell_type": "code",
      "source": [
        "# Tabela cruzada\n",
        "tabela = pd.crosstab(df_pd['Tipo_Ameaca'], df_pd['Setor_Alvo'])\n",
        "\n",
        "# Mapa de calor\n",
        "plt.figure(figsize=(12,8))\n",
        "sns.heatmap(tabela, annot=True, fmt=\"d\", cmap=\"YlGnBu\")\n",
        "plt.title(\"Mapa de Calor: Ameaças vs Setores\")\n",
        "plt.xlabel(\"Setor Afetado\")\n",
        "plt.ylabel(\"Tipo de Ameaça\")\n",
        "plt.show()"
      ],
      "metadata": {
        "colab": {
          "base_uri": "https://localhost:8080/",
          "height": 718
        },
        "id": "l8GLuhzLyelO",
        "outputId": "5c9db478-09f6-4436-deaf-ffce685d2fc8"
      },
      "execution_count": null,
      "outputs": [
        {
          "output_type": "display_data",
          "data": {
            "text/plain": [
              "<Figure size 1200x800 with 2 Axes>"
            ],
            "image/png": "[encoded data removed]"
          },
          "metadata": {}
        }
      ]
    },
    {
      "cell_type": "code",
      "source": [
        "df.printSchema()"
      ],
      "metadata": {
        "colab": {
          "base_uri": "https://localhost:8080/"
        },
        "id": "TueTV1sM0CUp",
        "outputId": "797ba572-c91f-44a2-910a-e4fadac13ba1"
      },
      "execution_count": null,
      "outputs": [
        {
          "output_type": "stream",
          "name": "stdout",
          "text": [
            "root\n",
            " |-- ID_Incidente: integer (nullable = true)\n",
            " |-- Data_Hora: string (nullable = true)\n",
            " |-- Tipo_Analise: string (nullable = true)\n",
            " |-- Origem_Dados: string (nullable = true)\n",
            " |-- Ferramenta_Usada: string (nullable = true)\n",
            " |-- Descricao_Evento: string (nullable = true)\n",
            " |-- Tipo_Ameaca: string (nullable = true)\n",
            " |-- Vulnerabilidade_Identificada: string (nullable = true)\n",
            " |-- Acao_Tomada: string (nullable = true)\n",
            " |-- Norma_Conformidade: string (nullable = true)\n",
            " |-- Risco_Associado: string (nullable = true)\n",
            " |-- Setor_Alvo: string (nullable = true)\n",
            " |-- Status: string (nullable = true)\n",
            " |-- Data: date (nullable = true)\n",
            " |-- Data_Hora_Timestamp: timestamp (nullable = true)\n",
            "\n"
          ]
        }
      ]
    },
    {
      "cell_type": "markdown",
      "source": [
        "## Dashboard Cybersegurança"
      ],
      "metadata": {
        "id": "jh2bkF7YHcan"
      }
    },
    {
      "cell_type": "code",
      "source": [
        "import pandas as pd\n",
        "import dash\n",
        "from dash import dcc, html\n",
        "from dash.dependencies import Input, Output\n",
        "import plotly.express as px\n",
        "\n",
        "# Carregar o dataset\n",
        "df = pd.read_csv('/content/dataset_ciberseguranca.csv')\n",
        "\n",
        "# Inicializar o app\n",
        "app = dash.Dash(__name__)\n",
        "app.title = \"Dashboard de Cibersegurança\"\n",
        "\n",
        "# Layout do dashboard\n",
        "app.layout = html.Div([\n",
        "    html.H1(\"📊 Dashboard de Cibersegurança\", style={'textAlign': 'center', 'color': '#2c3e50'}),\n",
        "\n",
        "    html.Div([\n",
        "        html.Label(\"Selecione o Ano:\", style={'fontWeight': 'bold'}),\n",
        "        dcc.Dropdown(\n",
        "            id='ano-dropdown',\n",
        "            options=[{'label': str(ano), 'value': ano} for ano in sorted(df['Data_Hora'].unique())],\n",
        "            value=sorted(df['Data_Hora'].unique())[0],\n",
        "            style={'width': '50%'}\n",
        "        )\n",
        "    ], style={'padding': '20px'}),\n",
        "\n",
        "    html.Div([\n",
        "        dcc.Graph(id='grafico-barras', style={'width': '48%', 'display': 'inline-block'}),\n",
        "        dcc.Graph(id='grafico-pizza', style={'width': '48%', 'display': 'inline-block'})\n",
        "    ])\n",
        "], style={'fontFamily': 'Arial', 'backgroundColor': '#f9f9f9', 'padding': '20px'})\n",
        "\n",
        "# Callback para atualizar os gráficos\n",
        "@app.callback(\n",
        "    [Output('grafico-barras', 'figure'),\n",
        "     Output('grafico-pizza', 'figure')],\n",
        "    Input('ano-dropdown', 'value')\n",
        ")\n",
        "def atualizar_graficos(ano_selecionado):\n",
        "    df_filtrado = df[df['Data_Hora'] == ano_selecionado]\n",
        "    ameacas = df_filtrado['Tipo_Ameaca'].value_counts().reset_index()\n",
        "    ameacas.columns = ['Tipo_Ameaca', 'Quantidade']\n",
        "\n",
        "    # Gráfico de barras\n",
        "    fig_bar = px.bar(\n",
        "        ameacas,\n",
        "        x='Tipo_Ameaca',\n",
        "        y='Quantidade',\n",
        "        title=f\"Tipos de Ameaça em {ano_selecionado}\",\n",
        "        color='Quantidade',\n",
        "        color_continuous_scale='Blues'\n",
        "    )\n",
        "    fig_bar.update_layout(plot_bgcolor='white')\n",
        "\n",
        "    # Gráfico de pizza\n",
        "    fig_pie = px.pie(\n",
        "        ameacas,\n",
        "        names='Tipo_Ameaca',\n",
        "        values='Quantidade',\n",
        "        title=f\"Distribuição Percentual de Ameaças ({ano_selecionado})\",\n",
        "        color_discrete_sequence=px.colors.sequential.RdBu\n",
        "    )\n",
        "\n",
        "    return fig_bar, fig_pie\n",
        "\n",
        "# Rodar o servidor\n",
        "if __name__ == '__main__':\n",
        "    app.run(debug=True)"
      ],
      "metadata": {
        "id": "3CvhOXQGCN02",
        "colab": {
          "base_uri": "https://localhost:8080/",
          "height": 671
        },
        "outputId": "5865bfa7-c3e7-4209-b753-5703944daa8b"
      },
      "execution_count": 55,
      "outputs": [
        {
          "output_type": "display_data",
          "data": {
            "text/plain": [
              "<IPython.core.display.Javascript object>"
            ],
            "application/javascript": [
              "(async (port, path, width, height, cache, element) => {\n",
              "    if (!google.colab.kernel.accessAllowed && !cache) {\n",
              "      return;\n",
              "    }\n",
              "    element.appendChild(document.createTextNode(''));\n",
              "    const url = await google.colab.kernel.proxyPort(port, {cache});\n",
              "    const iframe = document.createElement('iframe');\n",
              "    iframe.src = new URL(path, url).toString();\n",
              "    iframe.height = height;\n",
              "    iframe.width = width;\n",
              "    iframe.style.border = 0;\n",
              "    iframe.allow = [\n",
              "        'accelerometer',\n",
              "        'autoplay',\n",
              "        'camera',\n",
              "        'clipboard-read',\n",
              "        'clipboard-write',\n",
              "        'gyroscope',\n",
              "        'magnetometer',\n",
              "        'microphone',\n",
              "        'serial',\n",
              "        'usb',\n",
              "        'xr-spatial-tracking',\n",
              "    ].join('; ');\n",
              "    element.appendChild(iframe);\n",
              "  })(8050, \"/\", \"100%\", 650, false, window.element)"
            ]
          },
          "metadata": {}
        }
      ]
    }
  ]
}